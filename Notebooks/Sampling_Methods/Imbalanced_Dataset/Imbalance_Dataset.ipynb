{
 "cells": [
  {
   "cell_type": "code",
   "execution_count": 57,
   "id": "a3af796c",
   "metadata": {},
   "outputs": [],
   "source": [
    "# Import library\n",
    "import numpy as np\n",
    "import matplotlib.pyplot as plt\n",
    "import pandas as pd\n",
    "from sklearn.model_selection import train_test_split, StratifiedKFold, cross_val_score\n",
    "from sklearn.preprocessing import MinMaxScaler, OneHotEncoder\n",
    "from sklearn.impute import SimpleImputer\n",
    "from sklearn.metrics import classification_report\n",
    "from sklearn.pipeline import Pipeline\n",
    "from sklearn.compose import ColumnTransformer\n",
    "\n",
    "from sklearn.linear_model import LogisticRegression\n",
    "from sklearn.metrics import accuracy_score, precision_score, recall_score, f1_score, make_scorer"
   ]
  },
  {
   "cell_type": "code",
   "execution_count": 17,
   "id": "9991128c",
   "metadata": {},
   "outputs": [],
   "source": [
    "customer_df = pd.read_csv(\"./Churn_Modelling.csv\", index_col=\"RowNumber\")"
   ]
  },
  {
   "cell_type": "code",
   "execution_count": 18,
   "id": "72713854",
   "metadata": {},
   "outputs": [
    {
     "data": {
      "text/html": [
       "<div>\n",
       "<style scoped>\n",
       "    .dataframe tbody tr th:only-of-type {\n",
       "        vertical-align: middle;\n",
       "    }\n",
       "\n",
       "    .dataframe tbody tr th {\n",
       "        vertical-align: top;\n",
       "    }\n",
       "\n",
       "    .dataframe thead th {\n",
       "        text-align: right;\n",
       "    }\n",
       "</style>\n",
       "<table border=\"1\" class=\"dataframe\">\n",
       "  <thead>\n",
       "    <tr style=\"text-align: right;\">\n",
       "      <th></th>\n",
       "      <th>CustomerId</th>\n",
       "      <th>Surname</th>\n",
       "      <th>CreditScore</th>\n",
       "      <th>Geography</th>\n",
       "      <th>Gender</th>\n",
       "      <th>Age</th>\n",
       "      <th>Tenure</th>\n",
       "      <th>Balance</th>\n",
       "      <th>NumOfProducts</th>\n",
       "      <th>HasCrCard</th>\n",
       "      <th>IsActiveMember</th>\n",
       "      <th>EstimatedSalary</th>\n",
       "      <th>Exited</th>\n",
       "    </tr>\n",
       "    <tr>\n",
       "      <th>RowNumber</th>\n",
       "      <th></th>\n",
       "      <th></th>\n",
       "      <th></th>\n",
       "      <th></th>\n",
       "      <th></th>\n",
       "      <th></th>\n",
       "      <th></th>\n",
       "      <th></th>\n",
       "      <th></th>\n",
       "      <th></th>\n",
       "      <th></th>\n",
       "      <th></th>\n",
       "      <th></th>\n",
       "    </tr>\n",
       "  </thead>\n",
       "  <tbody>\n",
       "    <tr>\n",
       "      <th>1</th>\n",
       "      <td>15634602</td>\n",
       "      <td>Hargrave</td>\n",
       "      <td>619</td>\n",
       "      <td>France</td>\n",
       "      <td>Female</td>\n",
       "      <td>42</td>\n",
       "      <td>2</td>\n",
       "      <td>0.00</td>\n",
       "      <td>1</td>\n",
       "      <td>1</td>\n",
       "      <td>1</td>\n",
       "      <td>101348.88</td>\n",
       "      <td>1</td>\n",
       "    </tr>\n",
       "    <tr>\n",
       "      <th>2</th>\n",
       "      <td>15647311</td>\n",
       "      <td>Hill</td>\n",
       "      <td>608</td>\n",
       "      <td>Spain</td>\n",
       "      <td>Female</td>\n",
       "      <td>41</td>\n",
       "      <td>1</td>\n",
       "      <td>83807.86</td>\n",
       "      <td>1</td>\n",
       "      <td>0</td>\n",
       "      <td>1</td>\n",
       "      <td>112542.58</td>\n",
       "      <td>0</td>\n",
       "    </tr>\n",
       "    <tr>\n",
       "      <th>3</th>\n",
       "      <td>15619304</td>\n",
       "      <td>Onio</td>\n",
       "      <td>502</td>\n",
       "      <td>France</td>\n",
       "      <td>Female</td>\n",
       "      <td>42</td>\n",
       "      <td>8</td>\n",
       "      <td>159660.80</td>\n",
       "      <td>3</td>\n",
       "      <td>1</td>\n",
       "      <td>0</td>\n",
       "      <td>113931.57</td>\n",
       "      <td>1</td>\n",
       "    </tr>\n",
       "    <tr>\n",
       "      <th>4</th>\n",
       "      <td>15701354</td>\n",
       "      <td>Boni</td>\n",
       "      <td>699</td>\n",
       "      <td>France</td>\n",
       "      <td>Female</td>\n",
       "      <td>39</td>\n",
       "      <td>1</td>\n",
       "      <td>0.00</td>\n",
       "      <td>2</td>\n",
       "      <td>0</td>\n",
       "      <td>0</td>\n",
       "      <td>93826.63</td>\n",
       "      <td>0</td>\n",
       "    </tr>\n",
       "    <tr>\n",
       "      <th>5</th>\n",
       "      <td>15737888</td>\n",
       "      <td>Mitchell</td>\n",
       "      <td>850</td>\n",
       "      <td>Spain</td>\n",
       "      <td>Female</td>\n",
       "      <td>43</td>\n",
       "      <td>2</td>\n",
       "      <td>125510.82</td>\n",
       "      <td>1</td>\n",
       "      <td>1</td>\n",
       "      <td>1</td>\n",
       "      <td>79084.10</td>\n",
       "      <td>0</td>\n",
       "    </tr>\n",
       "  </tbody>\n",
       "</table>\n",
       "</div>"
      ],
      "text/plain": [
       "           CustomerId   Surname  CreditScore Geography  Gender  Age  Tenure  \\\n",
       "RowNumber                                                                     \n",
       "1            15634602  Hargrave          619    France  Female   42       2   \n",
       "2            15647311      Hill          608     Spain  Female   41       1   \n",
       "3            15619304      Onio          502    France  Female   42       8   \n",
       "4            15701354      Boni          699    France  Female   39       1   \n",
       "5            15737888  Mitchell          850     Spain  Female   43       2   \n",
       "\n",
       "             Balance  NumOfProducts  HasCrCard  IsActiveMember  \\\n",
       "RowNumber                                                        \n",
       "1               0.00              1          1               1   \n",
       "2           83807.86              1          0               1   \n",
       "3          159660.80              3          1               0   \n",
       "4               0.00              2          0               0   \n",
       "5          125510.82              1          1               1   \n",
       "\n",
       "           EstimatedSalary  Exited  \n",
       "RowNumber                           \n",
       "1                101348.88       1  \n",
       "2                112542.58       0  \n",
       "3                113931.57       1  \n",
       "4                 93826.63       0  \n",
       "5                 79084.10       0  "
      ]
     },
     "execution_count": 18,
     "metadata": {},
     "output_type": "execute_result"
    }
   ],
   "source": [
    "customer_df.head()"
   ]
  },
  {
   "cell_type": "code",
   "execution_count": 38,
   "id": "c6cea335",
   "metadata": {},
   "outputs": [
    {
     "data": {
      "text/plain": [
       "0    7963\n",
       "1    2037\n",
       "Name: Exited, dtype: int64"
      ]
     },
     "execution_count": 38,
     "metadata": {},
     "output_type": "execute_result"
    }
   ],
   "source": [
    "customer_df.Exited.value_counts()"
   ]
  },
  {
   "cell_type": "code",
   "execution_count": 21,
   "id": "f586bca0",
   "metadata": {},
   "outputs": [],
   "source": [
    "num_features = ['CreditScore','Age','Tenure','Balance','NumOfProducts', 'HasCrCard','IsActiveMember']\n",
    "cat_features = ['Geography', 'Gender']\n",
    "\n",
    "X = customer_df[num_features+cat_features]\n",
    "y = customer_df.iloc[:,-1]"
   ]
  },
  {
   "cell_type": "code",
   "execution_count": 22,
   "id": "7b4bc9f8",
   "metadata": {},
   "outputs": [],
   "source": [
    "# Inputing numerical values with median\n",
    "num_transformer = Pipeline(steps = [\n",
    "    ('imputer', SimpleImputer(strategy=\"median\")),\n",
    "    ('scaler', MinMaxScaler())\n",
    "])\n",
    "\n",
    "# Inputing missing values with most frequent one for categorical data\n",
    "cat_transformer = Pipeline(steps=[\n",
    "    ('imputer', SimpleImputer(strategy=\"most_frequent\")),\n",
    "    ('encoder', OneHotEncoder(handle_unknown='ignore'))\n",
    "])\n",
    "\n",
    "# Bundle preprocessing for numerical and categorical data\n",
    "preprocessor = ColumnTransformer(transformers=[\n",
    "    ('num', num_transformer, num_features),\n",
    "    ('cat', cat_transformer, cat_features)\n",
    "], remainder='passthrough')"
   ]
  },
  {
   "cell_type": "code",
   "execution_count": 52,
   "id": "2c22b83e",
   "metadata": {},
   "outputs": [],
   "source": [
    "new_X = preprocessor.fit_transform(X)"
   ]
  },
  {
   "cell_type": "code",
   "execution_count": 26,
   "id": "f1c437e0",
   "metadata": {},
   "outputs": [],
   "source": [
    "cv = StratifiedKFold(n_splits=5, shuffle=True, random_state=2022)"
   ]
  },
  {
   "cell_type": "code",
   "execution_count": 58,
   "id": "f11ccf61",
   "metadata": {},
   "outputs": [
    {
     "name": "stdout",
     "output_type": "stream",
     "text": [
      "              precision    recall  f1-score   support\n",
      "\n",
      "           0       0.83      0.96      0.89      1592\n",
      "           1       0.60      0.22      0.32       408\n",
      "\n",
      "    accuracy                           0.81      2000\n",
      "   macro avg       0.71      0.59      0.60      2000\n",
      "weighted avg       0.78      0.81      0.77      2000\n",
      "\n",
      "              precision    recall  f1-score   support\n",
      "\n",
      "           0       0.83      0.96      0.89      1592\n",
      "           1       0.57      0.21      0.31       408\n",
      "\n",
      "    accuracy                           0.81      2000\n",
      "   macro avg       0.70      0.58      0.60      2000\n",
      "weighted avg       0.77      0.81      0.77      2000\n",
      "\n",
      "              precision    recall  f1-score   support\n",
      "\n",
      "           0       0.82      0.96      0.89      1593\n",
      "           1       0.57      0.20      0.30       407\n",
      "\n",
      "    accuracy                           0.81      2000\n",
      "   macro avg       0.70      0.58      0.59      2000\n",
      "weighted avg       0.77      0.81      0.77      2000\n",
      "\n",
      "              precision    recall  f1-score   support\n",
      "\n",
      "           0       0.83      0.98      0.90      1593\n",
      "           1       0.71      0.21      0.33       407\n",
      "\n",
      "    accuracy                           0.82      2000\n",
      "   macro avg       0.77      0.60      0.61      2000\n",
      "weighted avg       0.80      0.82      0.78      2000\n",
      "\n",
      "              precision    recall  f1-score   support\n",
      "\n",
      "           0       0.82      0.97      0.89      1593\n",
      "           1       0.63      0.19      0.29       407\n",
      "\n",
      "    accuracy                           0.81      2000\n",
      "   macro avg       0.73      0.58      0.59      2000\n",
      "weighted avg       0.79      0.81      0.77      2000\n",
      "\n"
     ]
    },
    {
     "data": {
      "text/plain": [
       "0.30839669018141025"
      ]
     },
     "execution_count": 58,
     "metadata": {},
     "output_type": "execute_result"
    }
   ],
   "source": [
    "lr = LogisticRegression()\n",
    "\n",
    "def classification_report_with_f1_score(y_true, y_pred):\n",
    "    print(classification_report(y_true, y_pred)) # print classification report\n",
    "    return f1_score(y_true, y_pred) # return accuracy score\n",
    "\n",
    "scores = cross_val_score(lr, new_X, y, cv=cv, scoring=make_scorer(classification_report_with_f1_score))\n",
    "scores.mean()"
   ]
  },
  {
   "cell_type": "markdown",
   "id": "2a2d15f2",
   "metadata": {},
   "source": [
    "- Although the accuracy ~ 82% for overall predictition\n",
    "- Recall for class \"1\" ~ 20%, meaning that, we are only able to detect 20% of customer who want to exit (i.e: class 1)\n",
    "- Also, F1 score is only around 30%\n",
    "\n",
    "If we use `class_weight=\"balanced\"`, we will provide the Logistic Regression with Balance Class"
   ]
  },
  {
   "cell_type": "code",
   "execution_count": 69,
   "id": "6d5bce21",
   "metadata": {
    "scrolled": true
   },
   "outputs": [
    {
     "data": {
      "text/plain": [
       "0.4941147661454902"
      ]
     },
     "execution_count": 69,
     "metadata": {},
     "output_type": "execute_result"
    }
   ],
   "source": [
    "scores = cross_val_score(LogisticRegression(class_weight=\"balanced\"), new_X, y, cv=cv, scoring='f1')\n",
    "scores.mean()"
   ]
  },
  {
   "cell_type": "markdown",
   "id": "ca8a3e54",
   "metadata": {},
   "source": [
    "## Sampling Technique for Imbalance Class\n",
    "### Under Sampling\n",
    "- Random undersampling: involves randomly selecting examples from the majority class\n",
    "- NearMiss: a collection of undersampling methods that select examples based on the distance of majority class examples to minority class examples\n",
    "    - NearMiss-1: Majority class examples with minimum average distance to three closest minority class examples.\n",
    "    - NearMiss-2: Majority class examples with minimum average distance to three furthest minority class examples.\n",
    "    - NearMiss-3: Majority class examples with minimum distance to each minority class example."
   ]
  },
  {
   "cell_type": "code",
   "execution_count": 71,
   "id": "031058e3",
   "metadata": {},
   "outputs": [
    {
     "data": {
      "text/plain": [
       "0.7034329225941041"
      ]
     },
     "execution_count": 71,
     "metadata": {},
     "output_type": "execute_result"
    }
   ],
   "source": [
    "from imblearn.under_sampling import RandomUnderSampler, NearMiss\n",
    "rus = RandomUnderSampler()\n",
    "\n",
    "X_under, y_under = rus.fit_resample(new_X, y)\n",
    "cv = StratifiedKFold(n_splits=5, shuffle=True, random_state=2022)\n",
    "scores = cross_val_score(lr, X_under, y_under, scoring='f1', cv=cv, n_jobs=-1)\n",
    "scores.mean()"
   ]
  },
  {
   "cell_type": "code",
   "execution_count": 72,
   "id": "472869ef",
   "metadata": {},
   "outputs": [],
   "source": [
    "nearmiss_sampling = NearMiss(version=2, n_neighbors=3)\n",
    "\n",
    "X_under, y_under = nearmiss_sampling.fit_resample(new_X,y)"
   ]
  },
  {
   "cell_type": "code",
   "execution_count": 60,
   "id": "2c9cd9fd",
   "metadata": {},
   "outputs": [
    {
     "data": {
      "text/plain": [
       "0    2037\n",
       "1    2037\n",
       "Name: Exited, dtype: int64"
      ]
     },
     "execution_count": 60,
     "metadata": {},
     "output_type": "execute_result"
    }
   ],
   "source": [
    "y_under.value_counts()"
   ]
  },
  {
   "cell_type": "code",
   "execution_count": 61,
   "id": "c3f3c8cc",
   "metadata": {},
   "outputs": [
    {
     "data": {
      "text/plain": [
       "0.7352055438348664"
      ]
     },
     "execution_count": 61,
     "metadata": {},
     "output_type": "execute_result"
    }
   ],
   "source": [
    "cv = StratifiedKFold(n_splits=5, shuffle=True, random_state=2022)\n",
    "scores = cross_val_score(lr, X_under, y_under, scoring='f1', cv=cv, n_jobs=-1)\n",
    "scores.mean()"
   ]
  },
  {
   "cell_type": "code",
   "execution_count": 64,
   "id": "ffc4d4be",
   "metadata": {},
   "outputs": [
    {
     "name": "stdout",
     "output_type": "stream",
     "text": [
      "Version 1: 0.7\n",
      "Version 2: 0.74\n",
      "Version 3: 0.65\n"
     ]
    }
   ],
   "source": [
    "for i in range(1,4):\n",
    "    nearmiss_sampling = NearMiss(version=i, n_neighbors=3)\n",
    "    X_under, y_under = nearmiss_sampling.fit_resample(new_X,y)\n",
    "    cv = StratifiedKFold(n_splits=5, shuffle=True, random_state=2022)\n",
    "    scores = cross_val_score(lr, X_under, y_under, scoring='f1', cv=cv, n_jobs=-1)\n",
    "    print(f\"Version {i}: {round(scores.mean(),2)}\")"
   ]
  },
  {
   "attachments": {},
   "cell_type": "markdown",
   "id": "928d9aa5",
   "metadata": {},
   "source": [
    "In this case, **near-miss** version `2` has the best F1 score, and also better than RUS (Random Under Sampling)\n",
    "\n",
    "### Oversampling \n",
    "- **Random Over Sampling**\n",
    "- **SMOTE**: Synthetic (Generate) Minority Oversampling Technique"
   ]
  },
  {
   "cell_type": "code",
   "execution_count": 77,
   "id": "e1c7bcb4",
   "metadata": {},
   "outputs": [
    {
     "data": {
      "text/plain": [
       "1    7963\n",
       "0    7963\n",
       "Name: Exited, dtype: int64"
      ]
     },
     "execution_count": 77,
     "metadata": {},
     "output_type": "execute_result"
    }
   ],
   "source": [
    "from imblearn.over_sampling import SMOTE, RandomOverSampler\n",
    "\n",
    "smote = SMOTE()\n",
    "\n",
    "X_over, y_over = smote.fit_resample(new_X, y)\n",
    "y_over.value_counts()"
   ]
  },
  {
   "cell_type": "code",
   "execution_count": 78,
   "id": "ba29b76c",
   "metadata": {},
   "outputs": [
    {
     "data": {
      "text/plain": [
       "0.7067188980308134"
      ]
     },
     "execution_count": 78,
     "metadata": {},
     "output_type": "execute_result"
    }
   ],
   "source": [
    "cv = StratifiedKFold(n_splits=5, shuffle=True, random_state=2022)\n",
    "scores = cross_val_score(lr, X_over, y_over, scoring='f1', cv=cv, n_jobs=-1)\n",
    "scores.mean()"
   ]
  },
  {
   "cell_type": "code",
   "execution_count": 75,
   "id": "3bbfcbc0",
   "metadata": {},
   "outputs": [
    {
     "data": {
      "text/plain": [
       "0.694178429506676"
      ]
     },
     "execution_count": 75,
     "metadata": {},
     "output_type": "execute_result"
    }
   ],
   "source": [
    "ros = RandomUnderSampler()\n",
    "X_over, y_over = ros.fit_resample(new_X, y)\n",
    "cv = StratifiedKFold(n_splits=5, shuffle=True, random_state=2022)\n",
    "scores = cross_val_score(lr, X_over, y_over, scoring='f1', cv=cv, n_jobs=-1)\n",
    "scores.mean()"
   ]
  },
  {
   "cell_type": "code",
   "execution_count": null,
   "id": "76820b33",
   "metadata": {},
   "outputs": [],
   "source": []
  }
 ],
 "metadata": {
  "kernelspec": {
   "display_name": "Python 3 (ipykernel)",
   "language": "python",
   "name": "python3"
  },
  "language_info": {
   "codemirror_mode": {
    "name": "ipython",
    "version": 3
   },
   "file_extension": ".py",
   "mimetype": "text/x-python",
   "name": "python",
   "nbconvert_exporter": "python",
   "pygments_lexer": "ipython3",
   "version": "3.8.8"
  }
 },
 "nbformat": 4,
 "nbformat_minor": 5
}
